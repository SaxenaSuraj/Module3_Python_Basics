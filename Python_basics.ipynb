{
  "nbformat": 4,
  "nbformat_minor": 0,
  "metadata": {
    "colab": {
      "provenance": []
    },
    "kernelspec": {
      "name": "python3",
      "display_name": "Python 3"
    },
    "language_info": {
      "name": "python"
    }
  },
  "cells": [
    {
      "cell_type": "markdown",
      "source": [
        "#Python Basics Questions"
      ],
      "metadata": {
        "id": "8ga8owJNmNhJ"
      }
    },
    {
      "cell_type": "markdown",
      "source": [
        "1.What is Python, and why is it popular  \n",
        "Ans. Python is a programming language. It is popular because it is easy to learn and too many libraries to ease out task."
      ],
      "metadata": {
        "id": "rUY9moMNfxqO"
      }
    },
    {
      "cell_type": "markdown",
      "source": [
        "2.What is an interpreter in Python  \n",
        "Ans. An interpreter in Python is a program that executes Python code line by line by converting it into bytecode and running it on the Python Virtual Machine (PVM). Its extension file is .py"
      ],
      "metadata": {
        "id": "g9ANbcFvg3u0"
      }
    },
    {
      "cell_type": "markdown",
      "source": [
        " 3.What are pre-defined keywords in Python  \n",
        " Ans. These are the predefined words assigned for the specific task. Example- Print it is used to display the statement to user.\n"
      ],
      "metadata": {
        "id": "C-7ZrFm4gfcn"
      }
    },
    {
      "cell_type": "markdown",
      "source": [
        "4.Can keywords be used as variable names  \n",
        "Ans. No"
      ],
      "metadata": {
        "id": "mWnO5aKUhyNr"
      }
    },
    {
      "cell_type": "markdown",
      "source": [
        "5.What is mutability in Python  \n",
        "Ans. It means after defining the variable we can change it after it creation."
      ],
      "metadata": {
        "id": "4PlOhdkCiAt1"
      }
    },
    {
      "cell_type": "markdown",
      "source": [
        "6.Why are lists mutable, but tuples are immutable  \n",
        "Ans. Lists = Mutable for flexibility, Tuples = Immutable for safety and performance"
      ],
      "metadata": {
        "id": "XgeMYfooiAqH"
      }
    },
    {
      "cell_type": "markdown",
      "source": [
        "7.What is the difference between “==” and “is” operators in Python  \n",
        "Ans. \"==\" it is a comparator operator used to compare two values are equal or not while \"is\" is identity operator to check two variable are referring to same memory or not"
      ],
      "metadata": {
        "id": "I0JojUkeiAnJ"
      }
    },
    {
      "cell_type": "markdown",
      "source": [
        "8.What are logical operators in Python  \n",
        "Ans. These are the operators used to define logic in python ex and , or and not"
      ],
      "metadata": {
        "id": "IHazh8pFiAkR"
      }
    },
    {
      "cell_type": "markdown",
      "source": [
        "9.What is type casting in Python  \n",
        "Ans. It is defined as changing the datatype of variable. Example int:Integer to float etc"
      ],
      "metadata": {
        "id": "ROPzJnt9iAhX"
      }
    },
    {
      "cell_type": "markdown",
      "source": [
        "10.What is the difference between implicit and explicit type casting  \n",
        "Ans. Implicit means python understands the datatype solely we have not to defined it.for example a=5 it understood it is integer.\n",
        "Explicit means we have to define as suppose a=\"5\" it is a string so using it as integer we have to define as or typecast it as int(a)"
      ],
      "metadata": {
        "id": "l9LdWcCciAeZ"
      }
    },
    {
      "cell_type": "markdown",
      "source": [
        "11.What is the purpose of conditional statements in Python  \n",
        "Ans. The purpose of conditional statement is to defined the statement for different conditions."
      ],
      "metadata": {
        "id": "oCUR1g2-iAbZ"
      }
    },
    {
      "cell_type": "markdown",
      "source": [
        "12.How does the elif statement work  \n",
        "Ans. When we have to put two different conditionds then we use elif."
      ],
      "metadata": {
        "id": "tJOD8iR3iAYh"
      }
    },
    {
      "cell_type": "markdown",
      "source": [
        "13.What is the difference between for and while loops  \n",
        "Ans.A for loop is typically used when the number of iterations is known or iterable-based, while a while loop is used when looping depends on a condition being true, regardless of count."
      ],
      "metadata": {
        "id": "7SSqDiNqiAVg"
      }
    },
    {
      "cell_type": "markdown",
      "source": [
        "14.Describe a scenario where a while loop is more suitable than a for loop.  \n",
        "Ans.Repeatedly asking for a correct password until it's entered."
      ],
      "metadata": {
        "id": "JmX_LZCNiAJo"
      }
    },
    {
      "cell_type": "markdown",
      "source": [
        "#Practical Questions"
      ],
      "metadata": {
        "id": "4cJE67gcl-E8"
      }
    },
    {
      "cell_type": "code",
      "source": [
        "#1.Write a Python program to print \"Hello, World!\"\n",
        "print(\"Hello, World!\")"
      ],
      "metadata": {
        "colab": {
          "base_uri": "https://localhost:8080/"
        },
        "id": "wg6iElUNlySG",
        "outputId": "5aa5084f-7dee-419b-dd08-9352e754c482"
      },
      "execution_count": null,
      "outputs": [
        {
          "output_type": "stream",
          "name": "stdout",
          "text": [
            "Hello, World!\n"
          ]
        }
      ]
    },
    {
      "cell_type": "code",
      "source": [
        "#2.Write a Python program that displays your name and age.\n",
        "Name=\"Suraj Saxena\"\n",
        "Age=\"24\"\n",
        "print(Name)\n",
        "print(Age)"
      ],
      "metadata": {
        "colab": {
          "base_uri": "https://localhost:8080/"
        },
        "id": "0MKWCjmWoMpn",
        "outputId": "31fae021-69da-4307-d098-0472f0546d01"
      },
      "execution_count": null,
      "outputs": [
        {
          "output_type": "stream",
          "name": "stdout",
          "text": [
            "Suraj Saxena\n",
            "24\n"
          ]
        }
      ]
    },
    {
      "cell_type": "code",
      "source": [
        "#3.Write code to print all the pre-defined keywords in Python using the keyword library\n",
        "help('keywords')\n"
      ],
      "metadata": {
        "colab": {
          "base_uri": "https://localhost:8080/"
        },
        "id": "9TVw3mog3yJk",
        "outputId": "15f51578-de31-4ca2-914f-2ed0dbc0c772"
      },
      "execution_count": null,
      "outputs": [
        {
          "output_type": "stream",
          "name": "stdout",
          "text": [
            "\n",
            "Here is a list of the Python keywords.  Enter any keyword to get more help.\n",
            "\n",
            "False               class               from                or\n",
            "None                continue            global              pass\n",
            "True                def                 if                  raise\n",
            "and                 del                 import              return\n",
            "as                  elif                in                  try\n",
            "assert              else                is                  while\n",
            "async               except              lambda              with\n",
            "await               finally             nonlocal            yield\n",
            "break               for                 not                 \n",
            "\n"
          ]
        }
      ]
    },
    {
      "cell_type": "code",
      "source": [
        "#4.Write a program that checks if a given word is a Python keyword.\n",
        "from keyword import kwlist\n",
        "k =\"break\"\n",
        "if k in kwlist:\n",
        "  print(\"It is a keyword\")\n",
        "else:\n",
        "  print(\"It is not a keyword\")"
      ],
      "metadata": {
        "colab": {
          "base_uri": "https://localhost:8080/"
        },
        "id": "ayj9F0dW9rEd",
        "outputId": "05b31d29-7485-4810-c306-a2738889b43c"
      },
      "execution_count": null,
      "outputs": [
        {
          "output_type": "stream",
          "name": "stdout",
          "text": [
            "It is a keyword\n"
          ]
        }
      ]
    },
    {
      "cell_type": "code",
      "source": [
        "#5. Create a list and tuple in Python, and demonstrate how attempting to change an element works differently for each.\n",
        "my_list = [1, 2, 3]\n",
        "my_tuple = (1, 2, 3)\n",
        "my_list[0] = 10\n",
        "print(\"Updated list:\", my_list)\n",
        "my_tuple[0] = 10"
      ],
      "metadata": {
        "id": "kZVQ-B3e-2qu",
        "colab": {
          "base_uri": "https://localhost:8080/",
          "height": 193
        },
        "outputId": "7061882b-1329-4c52-971a-787f9b673c72"
      },
      "execution_count": null,
      "outputs": [
        {
          "output_type": "stream",
          "name": "stdout",
          "text": [
            "Updated list: [10, 2, 3]\n"
          ]
        },
        {
          "output_type": "error",
          "ename": "TypeError",
          "evalue": "'tuple' object does not support item assignment",
          "traceback": [
            "\u001b[0;31m---------------------------------------------------------------------------\u001b[0m",
            "\u001b[0;31mTypeError\u001b[0m                                 Traceback (most recent call last)",
            "\u001b[0;32m<ipython-input-8-653243055>\u001b[0m in \u001b[0;36m<cell line: 0>\u001b[0;34m()\u001b[0m\n\u001b[1;32m      4\u001b[0m \u001b[0mmy_list\u001b[0m\u001b[0;34m[\u001b[0m\u001b[0;36m0\u001b[0m\u001b[0;34m]\u001b[0m \u001b[0;34m=\u001b[0m \u001b[0;36m10\u001b[0m\u001b[0;34m\u001b[0m\u001b[0;34m\u001b[0m\u001b[0m\n\u001b[1;32m      5\u001b[0m \u001b[0mprint\u001b[0m\u001b[0;34m(\u001b[0m\u001b[0;34m\"Updated list:\"\u001b[0m\u001b[0;34m,\u001b[0m \u001b[0mmy_list\u001b[0m\u001b[0;34m)\u001b[0m\u001b[0;34m\u001b[0m\u001b[0;34m\u001b[0m\u001b[0m\n\u001b[0;32m----> 6\u001b[0;31m \u001b[0mmy_tuple\u001b[0m\u001b[0;34m[\u001b[0m\u001b[0;36m0\u001b[0m\u001b[0;34m]\u001b[0m \u001b[0;34m=\u001b[0m \u001b[0;36m10\u001b[0m\u001b[0;34m\u001b[0m\u001b[0;34m\u001b[0m\u001b[0m\n\u001b[0m",
            "\u001b[0;31mTypeError\u001b[0m: 'tuple' object does not support item assignment"
          ]
        }
      ]
    },
    {
      "cell_type": "code",
      "source": [
        "#6.Write a function to demonstrate the behavior of mutable and immutable arguments.\n",
        "def modify_values(a, b):\n",
        "    a += 10        # Immutable: creates a new object\n",
        "    b.append(4)    # Mutable: modifies the original list\n",
        "    print(\"Inside function:\", a, b)\n",
        "\n",
        "x = 5\n",
        "y = [1, 2, 3]\n",
        "\n",
        "modify_values(x, y)\n",
        "print(\"Outside function:\", x, y)"
      ],
      "metadata": {
        "id": "tzA5z7qi_AGP",
        "colab": {
          "base_uri": "https://localhost:8080/"
        },
        "outputId": "6c8526d9-c2ca-46c1-a84c-c20057db488e"
      },
      "execution_count": 3,
      "outputs": [
        {
          "output_type": "stream",
          "name": "stdout",
          "text": [
            "Inside function: 15 [1, 2, 3, 4]\n",
            "Outside function: 5 [1, 2, 3, 4]\n"
          ]
        }
      ]
    },
    {
      "cell_type": "code",
      "source": [
        "#7.Write a program that performs basic arithmetic operations on two user-input numbers.\n",
        "num1=int(input(\"Enter the first number:\"))\n",
        "num2=int(input(\"Enter the Second number:\"))\n",
        "print(f\"Addition: {num1+num2}\")\n",
        "print(f\"Substraction: {num1-num2}\")\n",
        "print(f\"Multiplication: {num1*num2}\")\n",
        "print(f\"Divide: {num1/num2}\")"
      ],
      "metadata": {
        "colab": {
          "base_uri": "https://localhost:8080/"
        },
        "id": "HDBCcHhL_G-q",
        "outputId": "883db2a7-eb7b-4d13-a1d3-5c6723d6d814"
      },
      "execution_count": null,
      "outputs": [
        {
          "output_type": "stream",
          "name": "stdout",
          "text": [
            "Enter the first number:45\n",
            "Enter the Second number:55\n",
            "Addition: 100\n",
            "Substraction: -10\n",
            "Multiplication: 2475\n",
            "Divide: 0.8181818181818182\n"
          ]
        }
      ]
    },
    {
      "cell_type": "code",
      "source": [
        "#8.Write a program to demonstrate the use of logical operators.\n",
        "a = 10\n",
        "b = 5\n",
        "c = 15\n",
        "if a > b and a < c:\n",
        "    print(\"a is greater than b AND less than c\")\n",
        "if b > a or c > a:\n",
        "    print(\"Either b is greater than a OR c is greater than a\")\n",
        "if not b > a:\n",
        "    print(\"b is NOT greater than a\")"
      ],
      "metadata": {
        "id": "_Zm0zMU8_Gzu",
        "colab": {
          "base_uri": "https://localhost:8080/"
        },
        "outputId": "c8f83989-cfb3-4fba-d015-cb6fb9ca3850"
      },
      "execution_count": null,
      "outputs": [
        {
          "output_type": "stream",
          "name": "stdout",
          "text": [
            "a is greater than b AND less than c\n",
            "Either b is greater than a OR c is greater than a\n",
            "b is NOT greater than a\n"
          ]
        }
      ]
    },
    {
      "cell_type": "code",
      "source": [
        "#9.Write a Python program to convert user input from string to integer, float, and boolean types.\n",
        "num1=input(\"Enter the number:\")\n",
        "print(f\"Integer:{int(num1)}\")\n",
        "print(f\"Float:{float(num1)}\")\n",
        "print(f\"Boolean:{bool(num1)}\")"
      ],
      "metadata": {
        "colab": {
          "base_uri": "https://localhost:8080/"
        },
        "id": "lU-wYP4x_GpD",
        "outputId": "75d68ef7-e6d0-4b06-bb98-8b48377ea985"
      },
      "execution_count": null,
      "outputs": [
        {
          "output_type": "stream",
          "name": "stdout",
          "text": [
            "Enter the number:25\n",
            "Integer:25\n",
            "Float:25.0\n",
            "Boolean:True\n"
          ]
        }
      ]
    },
    {
      "cell_type": "code",
      "source": [
        "#10. Write code to demonstrate type casting with list elements.\n",
        "numbers = ['5', '10', '15']\n",
        "numbers[0] = int(numbers[0])\n",
        "numbers[1] = int(numbers[1])\n",
        "numbers[2] = int(numbers[2])\n",
        "print(numbers)"
      ],
      "metadata": {
        "id": "oOeDXhl8_Ge6",
        "colab": {
          "base_uri": "https://localhost:8080/"
        },
        "outputId": "aa757f67-46c2-4a63-b1af-7051cfcfeeb8"
      },
      "execution_count": null,
      "outputs": [
        {
          "output_type": "stream",
          "name": "stdout",
          "text": [
            "[5, 10, 15]\n"
          ]
        }
      ]
    },
    {
      "cell_type": "code",
      "source": [
        "#11.Write a program that checks if a number is positive, negative, or zero.\n",
        "num1=input(\"Enter the number:\")\n",
        "if int(num1)>0:\n",
        "  print(\"Positive number\")\n",
        "elif int(num1)<0:\n",
        "  print(\"Negative number\")\n",
        "else:\n",
        "  print(\"Zero\")"
      ],
      "metadata": {
        "colab": {
          "base_uri": "https://localhost:8080/"
        },
        "id": "BLgXqDjp_GUv",
        "outputId": "5ae38ad6-f2f4-479b-b1ba-1b27879ef720"
      },
      "execution_count": null,
      "outputs": [
        {
          "output_type": "stream",
          "name": "stdout",
          "text": [
            "Enter the number:2\n",
            "Positive number\n"
          ]
        }
      ]
    },
    {
      "cell_type": "code",
      "source": [
        "#12.Write a for loop to print numbers from 1 to 10.\n",
        "for i in range(1,11):\n",
        "  print (i)\n",
        "  i+=1"
      ],
      "metadata": {
        "colab": {
          "base_uri": "https://localhost:8080/"
        },
        "id": "c3r5Zvs6_GK2",
        "outputId": "9c7ff42d-d784-4ad2-c3ed-303c1838e147"
      },
      "execution_count": null,
      "outputs": [
        {
          "output_type": "stream",
          "name": "stdout",
          "text": [
            "1\n",
            "2\n",
            "3\n",
            "4\n",
            "5\n",
            "6\n",
            "7\n",
            "8\n",
            "9\n",
            "10\n"
          ]
        }
      ]
    },
    {
      "cell_type": "code",
      "source": [
        "#13.Write a Python program to find the sum of all even numbers between 1 and 50.\n",
        "sum=0\n",
        "for i in range(1,51):\n",
        "  if(i%2==0):\n",
        "    sum+=i\n",
        "print(sum)"
      ],
      "metadata": {
        "colab": {
          "base_uri": "https://localhost:8080/"
        },
        "id": "RqrA_Oi3_GAc",
        "outputId": "affc2ab3-a553-434d-9935-465bc335c7e7"
      },
      "execution_count": null,
      "outputs": [
        {
          "output_type": "stream",
          "name": "stdout",
          "text": [
            "650\n"
          ]
        }
      ]
    },
    {
      "cell_type": "code",
      "source": [
        "#14.Write a program to reverse a string using a while loop.\n",
        "str1=input(\"Enter the string: \")\n",
        "str2=\"\"\n",
        "i=len(str1)\n",
        "while i>0:\n",
        "  str2+=str1[i-1]\n",
        "  i-=1\n",
        "print(str2)\n"
      ],
      "metadata": {
        "colab": {
          "base_uri": "https://localhost:8080/"
        },
        "id": "sE4BKklI_F2C",
        "outputId": "eab5f88e-91d8-4e63-822b-905faa6c204d"
      },
      "execution_count": null,
      "outputs": [
        {
          "output_type": "stream",
          "name": "stdout",
          "text": [
            "Enter the string: Hello World\n",
            "dlroW olleH\n"
          ]
        }
      ]
    },
    {
      "cell_type": "code",
      "source": [
        "#15. Write a Python program to calculate the factorial of a number provided by the user using a while loop.\n",
        "fact=1\n",
        "num1=int(input(\"Enter the number: \"))\n",
        "for i in range(1,num1+1):\n",
        "  fact*=i\n",
        "print(fact)"
      ],
      "metadata": {
        "colab": {
          "base_uri": "https://localhost:8080/"
        },
        "id": "oKNZbbLf_FiQ",
        "outputId": "ed3d3171-f0df-4ab8-ed51-4efef36b292a"
      },
      "execution_count": null,
      "outputs": [
        {
          "output_type": "stream",
          "name": "stdout",
          "text": [
            "Enter the number: 5\n",
            "120\n"
          ]
        }
      ]
    }
  ]
}